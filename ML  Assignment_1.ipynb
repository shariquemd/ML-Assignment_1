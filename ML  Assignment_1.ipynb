{
 "cells": [
  {
   "cell_type": "code",
   "execution_count": null,
   "id": "b0f28234-b38c-4cee-91f3-0a963f8850e6",
   "metadata": {},
   "outputs": [],
   "source": [
    "ANSWER1:"
   ]
  },
  {
   "cell_type": "code",
   "execution_count": null,
   "id": "0daba0f0-0dd5-4d5a-bf87-e27372d9a8b0",
   "metadata": {},
   "outputs": [],
   "source": [
    "Artificial Intelligence is basically the mechanism to incorporate human intelligence into machines through a set of rules(algorithm). AI is a combination of two words: “Artificial” meaning something made by humans or non-natural things and “Intelligence” meaning the ability to understand or think accordingly. Another definition could be that “AI is basically the study of training your machine(computers) to mimic a human brain and its thinking capabilities”. \n",
    "AI focuses on 3 major aspects(skills): learning, reasoning, and self-correction to obtain the maximum efficiency possible. \n",
    "\n",
    "Machine Learning:\n",
    "Machine Learning is basically the study/process which provides the system(computer) to learn automatically on its own through experiences it had and improve accordingly without being explicitly programmed. ML is an application or subset of AI. ML focuses on the development of programs so that it can access data to use it for itself. The entire process makes observations on data to identify the possible patterns being formed and make better future decisions as per the examples provided to them. The major aim of ML is to allow the systems to learn by themselves through experience without any kind of human intervention or assistance.\n",
    "\n",
    "Deep Learning:\n",
    "Deep Learning is basically a sub-part of the broader family of Machine Learning which makes use of Neural Networks(similar to the neurons working in our brain) to mimic human brain-like behavior. DL algorithms focus on information processing patterns mechanism to possibly identify the patterns just like our human brain does and classifies the information accordingly. DL works on larger sets of data when compared to ML and the prediction mechanism is self-administered by machines. "
   ]
  },
  {
   "cell_type": "code",
   "execution_count": null,
   "id": "76f19171-f25b-46c0-bd5a-d2b05babf12c",
   "metadata": {},
   "outputs": [],
   "source": [
    "ANSWER2:"
   ]
  },
  {
   "cell_type": "code",
   "execution_count": null,
   "id": "973a10df-7406-4e0e-886e-c0720eb5c757",
   "metadata": {},
   "outputs": [],
   "source": [
    "Supervised learning, as the name indicates, has the presence of a supervisor as a teacher. Basically supervised learning is when we teach or train the machine using data that is well-labelled. Which means some data is already tagged with the correct answer. After that, the machine is provided with a new set of examples(data) so that the supervised learning algorithm analyses the training data(set of training examples) and produces a correct outcome from labeled data.\n",
    "Example:The task of training a model to classify emails as either \"spam\" or \"not spam"
   ]
  },
  {
   "cell_type": "code",
   "execution_count": null,
   "id": "cff6aa56-0f49-4e59-b9b0-b3ecb35518d7",
   "metadata": {},
   "outputs": [],
   "source": [
    "ANSWER3:"
   ]
  },
  {
   "cell_type": "code",
   "execution_count": null,
   "id": "9587b3c1-4f5f-47eb-91cb-2095ad4cd68d",
   "metadata": {},
   "outputs": [],
   "source": [
    "Unsupervised learning is the training of a machine using information that is neither classified nor labeled and allowing the algorithm to act on that information without guidance. Here the task of the machine is to group unsorted information according to similarities, patterns, and differences without any prior training of data. \n",
    "Example:Clustering"
   ]
  },
  {
   "cell_type": "code",
   "execution_count": null,
   "id": "43420b62-b9b7-418f-9513-7b5aa4d3636c",
   "metadata": {},
   "outputs": [],
   "source": [
    "ANSWER4:"
   ]
  },
  {
   "cell_type": "code",
   "execution_count": null,
   "id": "e60e077d-758f-4f7e-9b05-1911085b56ae",
   "metadata": {},
   "outputs": [],
   "source": [
    "Artificial Intelligence (AI):\n",
    "Definition: AI is a broad field of computer science that aims to create machines capable of intelligent behavior, simulating human-like cognitive functions.\n",
    "Characteristics: Involves tasks such as problem-solving, learning, perception, reasoning, and language understanding.\n",
    "Example: Virtual personal assistants, image recognition, natural language processing.\n",
    "\n",
    "Machine Learning (ML):\n",
    "Definition: ML is a subset of AI that focuses on the development of algorithms allowing systems to learn and improve from experience (data) without being explicitly programmed.\n",
    "Characteristics: Emphasizes the use of data for training models that can make predictions or decisions.\n",
    "Example: Spam email filtering, recommendation systems, image recognition.\n",
    "\n",
    "Deep Learning (DL):\n",
    "Definition: DL is a specialized form of machine learning that involves neural networks with many layers (deep neural networks).\n",
    "Characteristics: Capable of learning hierarchical representations of data, often used for complex tasks like image and speech recognition.\n",
    "Example: Image classification using convolutional neural networks (CNNs), voice recognition.\n",
    "\n",
    "Data Science (DS):\n",
    "Definition: DS is a multidisciplinary field that uses scientific methods, processes, algorithms, and systems to extract insights and knowledge from structured and unstructured data.\n",
    "Characteristics: Involves data cleaning, preparation, analysis, visualization, and interpretation to inform decision-making.\n",
    "Example: Predictive modeling, data analytics, data visualization."
   ]
  },
  {
   "cell_type": "code",
   "execution_count": null,
   "id": "cb56c90f-ed4d-4ede-abc9-b7e8b2a8beab",
   "metadata": {},
   "outputs": [],
   "source": [
    "Answer5:"
   ]
  },
  {
   "cell_type": "code",
   "execution_count": null,
   "id": "eb26c20b-6c0c-4f0d-95c4-d726f7d42459",
   "metadata": {},
   "outputs": [],
   "source": [
    "Supervised Learning:\n",
    "Definition: In supervised learning, the algorithm is trained on a labeled dataset, meaning that each input is associated with a corresponding output or target. The goal is for the algorithm to learn the mapping between inputs and desired outputs.\n",
    "Example: Classification tasks, such as spam detection or image recognition, where the algorithm learns to predict a specific label for given input data.\n",
    "\n",
    "Unsupervised Learning:\n",
    "Definition: Unsupervised learning deals with unlabeled data, and the algorithm's goal is to find patterns, relationships, or structures within the data without explicit guidance. It involves exploring the inherent structure of the data.\n",
    "Example: Clustering tasks, like grouping similar customer profiles based on purchasing behavior, or dimensionality reduction techniques to identify key features in the data.\n",
    "\n",
    "Semi-Supervised Learning:\n",
    "Definition: Semi-supervised learning is a hybrid approach that uses a combination of labeled and unlabeled data for training. Typically, there is a small amount of labeled data and a larger amount of unlabeled data.\n",
    "Example: If you have a dataset with some labeled examples of handwritten digits (e.g., digits 0-9), but the majority of the data is unlabeled, a semi-supervised approach could be used to leverage both the labeled and unlabeled data for better model performance."
   ]
  },
  {
   "cell_type": "code",
   "execution_count": null,
   "id": "34b888f5-1a3c-4f36-89ea-239205cb01ce",
   "metadata": {},
   "outputs": [],
   "source": [
    "Answer6:"
   ]
  },
  {
   "cell_type": "code",
   "execution_count": null,
   "id": "559fa345-4a1f-4e21-b54f-8f54c9860b82",
   "metadata": {},
   "outputs": [],
   "source": [
    "Training Set:\n",
    "Definition: The training set is a subset of the dataset used to train the machine learning model. It consists of input data and corresponding output labels (in supervised learning). The model learns patterns and relationships from this data during the training phase.\n",
    "Importance: The training set is crucial for teaching the model to make predictions or classifications. The model adjusts its parameters based on the patterns present in the training data.\n",
    "\n",
    "Test Set:\n",
    "Definition: The test set is a separate subset of the dataset that the model has not seen during training. It is used to evaluate the model's performance and assess how well it generalizes to new, unseen data.\n",
    "Importance: The test set provides an unbiased evaluation of the model's performance. It helps ensure that the model has learned to make accurate predictions on data it hasn't encountered before, indicating its ability to generalize.\n",
    "\n",
    "Validation Set:\n",
    "Definition: The validation set is another independent subset of the data that is not used for training. It is used during the training phase to tune hyperparameters and make decisions about the model architecture without overfitting to the test set.\n",
    "Importance: The validation set helps prevent overfitting by providing a set of data that the model doesn't directly train on. It allows fine-tuning without introducing biases from the test set, ensuring that the model's performance is more likely to generalize well to new, unseen data.\n"
   ]
  },
  {
   "cell_type": "code",
   "execution_count": null,
   "id": "68170f78-6651-471e-8ad1-2f5f4114c8bb",
   "metadata": {},
   "outputs": [],
   "source": [
    "Answer7:"
   ]
  },
  {
   "cell_type": "code",
   "execution_count": null,
   "id": "04864b79-2bb7-42ed-b191-5d240af04708",
   "metadata": {},
   "outputs": [],
   "source": [
    "Normal Behavior Modeling:\n",
    "In unsupervised anomaly detection, the algorithm learns the normal patterns and structures within the data without explicit labels for normal and anomalous instances.\n",
    "By using techniques such as clustering or density estimation, the algorithm identifies the typical behavior or distribution of the data.\n",
    "\n",
    "Identification of Deviations:\n",
    "Once the normal behavior is modeled, the algorithm can identify instances that deviate significantly from the learned patterns.\n",
    "Any data point that falls outside the expected range or distribution can be considered a potential anomaly.\n",
    "\n",
    "Clustering Techniques:\n",
    "Unsupervised learning algorithms, such as k-means clustering or hierarchical clustering, can group similar data points together.\n",
    "Anomalies may be identified as data points that do not belong to any of the well-defined clusters, as they represent unusual patterns.\n",
    "\n",
    "Density Estimation:\n",
    "Density-based techniques, like kernel density estimation or local outlier factor (LOF), can be employed to identify regions of low data density.\n",
    "Anomalies are often found in these low-density regions, as they represent instances that do not conform to the usual patterns of the majority of the data.\n",
    "\n",
    "One-Class SVM (Support Vector Machines):\n",
    "One-Class SVM is a specific algorithm designed for anomaly detection in situations where only normal data is available for training.\n",
    "It learns a representation of normal data and identifies anomalies as instances that deviate from this learned representation.\n",
    "\n",
    "Autoencoders in Neural Networks:\n",
    "Autoencoders, a type of neural network architecture used in unsupervised learning, can also be applied to anomaly detection.\n",
    "The model is trained to reconstruct normal data, and instances that are poorly reconstructed may be flagged as anomalies."
   ]
  },
  {
   "cell_type": "code",
   "execution_count": null,
   "id": "5117a99b-f103-40d5-a7bc-30a519ba667f",
   "metadata": {},
   "outputs": [],
   "source": [
    "Answer8:"
   ]
  },
  {
   "cell_type": "code",
   "execution_count": null,
   "id": "de53a726-3914-4ee4-bbb9-1b1a4a0435d0",
   "metadata": {},
   "outputs": [],
   "source": [
    "Supervised :-\n",
    "Regression\n",
    "Logistic Regression\n",
    "Classification\n",
    "Naive Bayes Classifiers\n",
    "K-NN (k nearest neighbors)\n",
    "Decision Trees\n",
    "Support Vector Machine\n",
    "\n",
    "Unsupervised:-\n",
    "Hierarchical clustering\n",
    "K-means clustering\n",
    "Principal Component Analysis\n",
    "Singular Value Decomposition\n",
    "Independent Component Analysis"
   ]
  },
  {
   "cell_type": "code",
   "execution_count": null,
   "id": "78c20dc9-d736-43b3-b435-50c8a3cbd8f7",
   "metadata": {},
   "outputs": [],
   "source": []
  }
 ],
 "metadata": {
  "kernelspec": {
   "display_name": "Python 3 (ipykernel)",
   "language": "python",
   "name": "python3"
  },
  "language_info": {
   "codemirror_mode": {
    "name": "ipython",
    "version": 3
   },
   "file_extension": ".py",
   "mimetype": "text/x-python",
   "name": "python",
   "nbconvert_exporter": "python",
   "pygments_lexer": "ipython3",
   "version": "3.10.8"
  }
 },
 "nbformat": 4,
 "nbformat_minor": 5
}
